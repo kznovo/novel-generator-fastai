{
 "cells": [
  {
   "cell_type": "code",
   "execution_count": 1,
   "metadata": {},
   "outputs": [],
   "source": [
    "from fastai import *\n",
    "from fastai.text import *"
   ]
  },
  {
   "cell_type": "code",
   "execution_count": 2,
   "metadata": {},
   "outputs": [],
   "source": [
    "from bs4 import BeautifulSoup"
   ]
  },
  {
   "cell_type": "code",
   "execution_count": 3,
   "metadata": {},
   "outputs": [],
   "source": [
    "base_path = \"https://www.aozora.gr.jp/\"\n",
    "page = requests.get(base_path + \"index_pages/person1779.html\")"
   ]
  },
  {
   "cell_type": "code",
   "execution_count": 4,
   "metadata": {},
   "outputs": [],
   "source": [
    "soup = BeautifulSoup(page.text, 'html')\n",
    "texts = []\n",
    "for a in soup.find_all(\"a\"):\n",
    "    href = a.get(\"href\")\n",
    "    if isinstance(href, str) and href.startswith(\"../cards\"):\n",
    "        tmp_path = base_path + \"/\".join(href.split(\"/\")[1:])\n",
    "        tmp_page = requests.get(tmp_path)\n",
    "        tmp_soup = BeautifulSoup(tmp_page.text, \"html.parser\")\n",
    "        for tmp_a in tmp_soup.find_all(\"a\"):\n",
    "            tmp_href = tmp_a.get(\"href\")\n",
    "            if (\n",
    "                isinstance(tmp_href, str) and\n",
    "                tmp_href.startswith(\"./files\") and\n",
    "                tmp_href.endswith(\".html\")\n",
    "            ):\n",
    "                source_path = \"/\".join(tmp_path.split(\"/\")[:-1] + [tmp_href[2:]])\n",
    "                source_page = requests.get(source_path)\n",
    "                source_page.encoding = \"shift-jis\"\n",
    "                source_soup = BeautifulSoup(source_page.text, \"html.parser\")\n",
    "                text = (\n",
    "                    source_soup\n",
    "                    .find(\"div\", {\"class\": \"main_text\"})\n",
    "                    .text\n",
    "                    .strip()\n",
    "                    .replace(\"\\n\", \"\")\n",
    "                    .replace(\"\\r\", \"\")\n",
    "                    .replace(\"\\u3000\", \"\")\n",
    "                )\n",
    "                texts.append(text)"
   ]
  },
  {
   "cell_type": "code",
   "execution_count": 5,
   "metadata": {},
   "outputs": [],
   "source": [
    "splitted_texts = [ts + \"。\" for t in texts for ts in t.split(\"。\")]\n",
    "df = pd.DataFrame(splitted_texts).drop_duplicates().reset_index(drop=True)"
   ]
  },
  {
   "cell_type": "code",
   "execution_count": 6,
   "metadata": {},
   "outputs": [
    {
     "data": {
      "text/html": [
       "<div>\n",
       "<style scoped>\n",
       "    .dataframe tbody tr th:only-of-type {\n",
       "        vertical-align: middle;\n",
       "    }\n",
       "\n",
       "    .dataframe tbody tr th {\n",
       "        vertical-align: top;\n",
       "    }\n",
       "\n",
       "    .dataframe thead th {\n",
       "        text-align: right;\n",
       "    }\n",
       "</style>\n",
       "<table border=\"1\" class=\"dataframe\">\n",
       "  <thead>\n",
       "    <tr style=\"text-align: right;\">\n",
       "      <th></th>\n",
       "      <th>0</th>\n",
       "    </tr>\n",
       "  </thead>\n",
       "  <tbody>\n",
       "    <tr>\n",
       "      <th>0</th>\n",
       "      <td>１あるにちよう日のごご、丹下（たんげ）サト子ちゃんと、木村（きむら）ミドリちゃんと、野崎（の...</td>\n",
       "    </tr>\n",
       "    <tr>\n",
       "      <th>1</th>\n",
       "      <td>三人とも、小学校三年生のなかよしです。</td>\n",
       "    </tr>\n",
       "    <tr>\n",
       "      <th>2</th>\n",
       "      <td>「あらっ。</td>\n",
       "    </tr>\n",
       "    <tr>\n",
       "      <th>3</th>\n",
       "      <td>」サト子ちゃんが、なにを見たのか、ぎょっとしたようにたちどまりました。</td>\n",
       "    </tr>\n",
       "    <tr>\n",
       "      <th>4</th>\n",
       "      <td>ミドリちゃんもサユリちゃんもびっくりして、サト子ちゃんの見つめている方をながめました。</td>\n",
       "    </tr>\n",
       "  </tbody>\n",
       "</table>\n",
       "</div>"
      ],
      "text/plain": [
       "                                                   0\n",
       "0  １あるにちよう日のごご、丹下（たんげ）サト子ちゃんと、木村（きむら）ミドリちゃんと、野崎（の...\n",
       "1                                三人とも、小学校三年生のなかよしです。\n",
       "2                                              「あらっ。\n",
       "3                」サト子ちゃんが、なにを見たのか、ぎょっとしたようにたちどまりました。\n",
       "4        ミドリちゃんもサユリちゃんもびっくりして、サト子ちゃんの見つめている方をながめました。"
      ]
     },
     "execution_count": 6,
     "metadata": {},
     "output_type": "execute_result"
    }
   ],
   "source": [
    "df.head()"
   ]
  },
  {
   "cell_type": "code",
   "execution_count": 7,
   "metadata": {},
   "outputs": [],
   "source": [
    "import re\n",
    "from natto import MeCab"
   ]
  },
  {
   "cell_type": "code",
   "execution_count": 19,
   "metadata": {},
   "outputs": [],
   "source": [
    "nm = MeCab()\n",
    "\n",
    "class MeCabTokenizer(BaseTokenizer):\n",
    "    def __init__(self, lang:str):\n",
    "        self.lang = 'ja'\n",
    "    def add_special_cases(self, toks:Collection[str]): pass\n",
    "    def tokenizer(self,raw_sentence):\n",
    "        return [node.surface for node in nm.parse(raw_sentence, as_nodes=True)]"
   ]
  },
  {
   "cell_type": "code",
   "execution_count": 20,
   "metadata": {},
   "outputs": [
    {
     "data": {
      "text/html": [],
      "text/plain": [
       "<IPython.core.display.HTML object>"
      ]
     },
     "metadata": {},
     "output_type": "display_data"
    },
    {
     "data": {
      "text/html": [],
      "text/plain": [
       "<IPython.core.display.HTML object>"
      ]
     },
     "metadata": {},
     "output_type": "display_data"
    }
   ],
   "source": [
    "tokenizer = Tokenizer(MeCabTokenizer, 'ja')\n",
    "processor = [\n",
    "    TokenizeProcessor(tokenizer=tokenizer),\n",
    "    NumericalizeProcessor(max_vocab=60000,min_freq=2)\n",
    "]\n",
    "\n",
    "data_lm = (\n",
    "    TextList\n",
    "    .from_df(df,Path(\"data\"),cols=[0],processor=processor)\n",
    "    .split_by_rand_pct(0.1)\n",
    "    .label_for_lm()\n",
    "    .databunch(bs=64)\n",
    ")"
   ]
  },
  {
   "cell_type": "code",
   "execution_count": 21,
   "metadata": {},
   "outputs": [
    {
     "data": {
      "text/html": [
       "<table border=\"1\" class=\"dataframe\">\n",
       "  <thead>\n",
       "    <tr style=\"text-align: right;\">\n",
       "      <th>idx</th>\n",
       "      <th>text</th>\n",
       "    </tr>\n",
       "  </thead>\n",
       "  <tbody>\n",
       "    <tr>\n",
       "      <td>0</td>\n",
       "      <td>歩い て い まし た 。 xxbos 三 人 とも 、 小学校 三 年生 の なかよし です 。 xxbos 「 あらっ 。 xxbos 」 サト子 ちゃん が 、 なに を 見 た の か 、 ぎょっと し た よう に たちどまり まし た 。 xxbos ミドリ ちゃん も サユリ ちゃん も びっくり し て 、 サト子 ちゃん の 見つめ て いる 方 を ながめ まし た 。 xxbos する と</td>\n",
       "    </tr>\n",
       "    <tr>\n",
       "      <td>1</td>\n",
       "      <td>の 庭 に 椅子 を 置い て 、 この 方面 から の 侵入 者 を 防ぐ という 手筈 で あっ た 。 xxbos 早い 夕食 を 済ませ て 、 一同 部署 に つい た が 、 川手 氏 は それでも まだ 安心 し きれ ぬ 体 （ てい ） で 、 妙子 さん の 部屋 に 入っ たり 出 たり し ながら 、 廊下 の 宗像 博士 の 前 を</td>\n",
       "    </tr>\n",
       "    <tr>\n",
       "      <td>2</td>\n",
       "      <td>と し て いる の だ 。 xxbos 目 を 閉 （ ふさ ） い で も 、 断末魔 の 悲痛 な うめき声 が 聞え て 来る 。 xxbos しかも それ は 、 一寸 だ めし 五 分 だ めし 、 歌舞伎 （ かぶ き ） 芝居 の 殺し 場 そっくり の 、 あの いやらしい 、 陰惨 な 、 xxunk （ そく そく ） として 鬼気 の 身 に 迫る</td>\n",
       "    </tr>\n",
       "    <tr>\n",
       "      <td>3</td>\n",
       "      <td>が 、 果し合い でも する よう な 顔 で 突 立っ て い た 。 xxbos 立 上る 時 、 興奮 の 余り 、 つい 椅子 を 倒し た の で ある 。 xxbos 論理 と 空想 の 外 に は 、 現実 の 証拠 という もの が 一つ も ない じゃ ない か 。 xxbos 証拠 を 得 よう に も 、 残念 ながら 竜子 が 死ん で しまっ</td>\n",
       "    </tr>\n",
       "    <tr>\n",
       "      <td>4</td>\n",
       "      <td>間違っ た 推断 によって 罪 （ つみ ） せら れ ん と する 我 学界 の 長者 を 救う もの は 、 偶然 に も その 現場 に xxunk （ い あわ ） し て 、 一寸 し た 証拠 物件 を 手 に 入れ た 、 この 私 の 外 に ない と 信ずる が 故に 、 当然 の 義務 として 、 この 挙 に 出 （ い ）</td>\n",
       "    </tr>\n",
       "  </tbody>\n",
       "</table>"
      ],
      "text/plain": [
       "<IPython.core.display.HTML object>"
      ]
     },
     "metadata": {},
     "output_type": "display_data"
    }
   ],
   "source": [
    "data_lm.show_batch()"
   ]
  },
  {
   "cell_type": "code",
   "execution_count": 22,
   "metadata": {},
   "outputs": [],
   "source": [
    "learn = language_model_learner(data_lm, AWD_LSTM, pretrained=False)"
   ]
  },
  {
   "cell_type": "code",
   "execution_count": null,
   "metadata": {},
   "outputs": [
    {
     "data": {
      "text/html": [
       "\n",
       "    <div>\n",
       "        <style>\n",
       "            /* Turns off some styling */\n",
       "            progress {\n",
       "                /* gets rid of default border in Firefox and Opera. */\n",
       "                border: none;\n",
       "                /* Needs to be in here for Safari polyfill so background images work as expected. */\n",
       "                background-size: auto;\n",
       "            }\n",
       "            .progress-bar-interrupted, .progress-bar-interrupted::-webkit-progress-bar {\n",
       "                background: #F44336;\n",
       "            }\n",
       "        </style>\n",
       "      <progress value='0' class='' max='1', style='width:300px; height:20px; vertical-align: middle;'></progress>\n",
       "      0.00% [0/1 00:00<00:00]\n",
       "    </div>\n",
       "    \n",
       "<table border=\"1\" class=\"dataframe\">\n",
       "  <thead>\n",
       "    <tr style=\"text-align: left;\">\n",
       "      <th>epoch</th>\n",
       "      <th>train_loss</th>\n",
       "      <th>valid_loss</th>\n",
       "      <th>accuracy</th>\n",
       "      <th>time</th>\n",
       "    </tr>\n",
       "  </thead>\n",
       "  <tbody>\n",
       "  </tbody>\n",
       "</table><p>\n",
       "\n",
       "    <div>\n",
       "        <style>\n",
       "            /* Turns off some styling */\n",
       "            progress {\n",
       "                /* gets rid of default border in Firefox and Opera. */\n",
       "                border: none;\n",
       "                /* Needs to be in here for Safari polyfill so background images work as expected. */\n",
       "                background-size: auto;\n",
       "            }\n",
       "            .progress-bar-interrupted, .progress-bar-interrupted::-webkit-progress-bar {\n",
       "                background: #F44336;\n",
       "            }\n",
       "        </style>\n",
       "      <progress value='0' class='' max='549', style='width:300px; height:20px; vertical-align: middle;'></progress>\n",
       "      0.00% [0/549 00:00<00:00]\n",
       "    </div>\n",
       "    "
      ],
      "text/plain": [
       "<IPython.core.display.HTML object>"
      ]
     },
     "metadata": {},
     "output_type": "display_data"
    }
   ],
   "source": [
    "learn.lr_find()\n",
    "learn.recorder.plot()"
   ]
  },
  {
   "cell_type": "code",
   "execution_count": null,
   "metadata": {},
   "outputs": [],
   "source": [
    "learn.unfreeze()\n",
    "learn.fit_one_cycle(16, 1e-02)"
   ]
  },
  {
   "cell_type": "code",
   "execution_count": null,
   "metadata": {},
   "outputs": [],
   "source": [
    "learn.predict(\"二十面相\", n_words=50)"
   ]
  },
  {
   "cell_type": "code",
   "execution_count": null,
   "metadata": {},
   "outputs": [],
   "source": [
    "learn.export(\"edogawa.pkl\")"
   ]
  }
 ],
 "metadata": {
  "kernelspec": {
   "display_name": "Python 3",
   "language": "python",
   "name": "python3"
  },
  "language_info": {
   "codemirror_mode": {
    "name": "ipython",
    "version": 3
   },
   "file_extension": ".py",
   "mimetype": "text/x-python",
   "name": "python",
   "nbconvert_exporter": "python",
   "pygments_lexer": "ipython3",
   "version": "3.6.9"
  }
 },
 "nbformat": 4,
 "nbformat_minor": 2
}
